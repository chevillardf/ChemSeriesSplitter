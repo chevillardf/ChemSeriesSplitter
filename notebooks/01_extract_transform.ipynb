{
 "cells": [
  {
   "cell_type": "code",
   "execution_count": 1,
   "metadata": {},
   "outputs": [],
   "source": [
    "import re, sys\n",
    "import pandas as pd\n",
    "import numpy as np\n",
    "import json\n",
    "from rdkit import Chem, DataStructs, RDLogger\n",
    "from rdkit.Chem import rdChemReactions, AllChem, Draw, PandasTools\n",
    "RDLogger.DisableLog('rdApp.*')\n",
    "import warnings\n",
    "warnings.filterwarnings('ignore')"
   ]
  },
  {
   "cell_type": "code",
   "execution_count": 2,
   "metadata": {},
   "outputs": [],
   "source": [
    "def remove_bb_smi_label(smi):\n",
    "    return re.sub(r\"\\[\\d{2}\\*\\]\", \"[*]\", smi)"
   ]
  },
  {
   "cell_type": "markdown",
   "metadata": {},
   "source": [
    "#### Extract"
   ]
  },
  {
   "cell_type": "code",
   "execution_count": 3,
   "metadata": {},
   "outputs": [],
   "source": [
    "with open(\"../data/raw/DORA_Lactam_mols_bbs.json\", \"r\") as f:\n",
    "    mols = json.load(f)\n",
    "with open(\"../data/raw/DORA_Lactam_bbs.json\", \"r\") as f:\n",
    "    bbs = json.load(f)\n",
    "    \n",
    "df_mols = pd.json_normalize(mols)\n",
    "df_bbs = pd.json_normalize(bbs)"
   ]
  },
  {
   "cell_type": "markdown",
   "metadata": {},
   "source": [
    "#### Transform"
   ]
  },
  {
   "cell_type": "code",
   "execution_count": 4,
   "metadata": {},
   "outputs": [],
   "source": [
    "df_bbs = df_bbs[[\"bb_smi\", \"bb_id\"]]\n",
    "df_mols = df_mols[[\"mol_smi\", \"mol_id\", \"A_id\", \"B_id\", \"C_id\"]]\n",
    "\n",
    "for col in [\"A\", \"B\", \"C\"]:\n",
    "    df_mols = df_mols.merge(\n",
    "        df_bbs,\n",
    "        left_on=f\"{col}_id\",\n",
    "        right_on=\"bb_id\",\n",
    "        how=\"left\"\n",
    "    ).rename(columns={\"bb_smi\": f\"{col}_smi\"}).drop(columns=[\"bb_id\"])\n",
    "\n",
    "df_mols = df_mols.dropna(subset=[\"A_id\", \"B_id\", \"C_id\"])"
   ]
  },
  {
   "cell_type": "code",
   "execution_count": 5,
   "metadata": {},
   "outputs": [],
   "source": [
    "for col in [\"A_smi\", \"B_smi\", \"C_smi\"]:\n",
    "    df_mols[col] = df_mols[col].apply(remove_bb_smi_label)\n",
    "    \n",
    "df_mols['bbs_smi'] = df_mols['A_smi'] + '.' + df_mols['B_smi'] + '.' + df_mols['C_smi']"
   ]
  },
  {
   "cell_type": "markdown",
   "metadata": {},
   "source": [
    "#### Save"
   ]
  },
  {
   "cell_type": "code",
   "execution_count": 6,
   "metadata": {},
   "outputs": [],
   "source": [
    "df_mols.to_pickle(\"../data/transformed/df_mols_ready.pkl\")"
   ]
  },
  {
   "cell_type": "markdown",
   "metadata": {},
   "source": [
    "#### Augment"
   ]
  },
  {
   "cell_type": "code",
   "execution_count": 7,
   "metadata": {},
   "outputs": [],
   "source": [
    "from rdkit import Chem\n",
    "import random\n",
    "\n",
    "def augment_smiles(smiles, num_aug=5):\n",
    "    \"\"\"\n",
    "    Generate augmented SMILES strings for the same molecule.\n",
    "    \n",
    "    Args:\n",
    "        smiles (str): input SMILES\n",
    "        num_aug (int): number of augmented SMILES to generate\n",
    "    \n",
    "    Returns:\n",
    "        list of str: augmented SMILES (non-canonical)\n",
    "    \"\"\"\n",
    "    mol = Chem.MolFromSmiles(smiles)\n",
    "    if mol is None:\n",
    "        return []\n",
    "    \n",
    "    aug_smiles = set()\n",
    "    for _ in range(num_aug):\n",
    "        # Use random atom ordering to generate non-canonical SMILES\n",
    "        aug = Chem.MolToSmiles(mol, doRandom=True)\n",
    "        aug_smiles.add(aug)\n",
    "    \n",
    "    return list(aug_smiles)"
   ]
  },
  {
   "cell_type": "code",
   "execution_count": 8,
   "metadata": {},
   "outputs": [
    {
     "name": "stdout",
     "output_type": "stream",
     "text": [
      "Original: CCOc1ccc2nc(S(N)(=O)=O)sc2c1\n",
      "Augmented: ['s1c2cc(ccc2nc1S(N)(=O)=O)OCC', 'c12ccc(cc2sc(S(N)(=O)=O)n1)OCC', 'c1c(OCC)cc2c(c1)nc(S(=O)(N)=O)s2', 'n1c(sc2c1ccc(OCC)c2)S(N)(=O)=O', 'c1(OCC)cc2c(cc1)nc(S(=O)(=O)N)s2', 'c12sc(nc2ccc(OCC)c1)S(=O)(N)=O', 'c12nc(S(N)(=O)=O)sc1cc(OCC)cc2', 'S(=O)(=O)(c1nc2ccc(cc2s1)OCC)N', 'c1c2c(nc(S(N)(=O)=O)s2)ccc1OCC', 'c12nc(sc2cc(OCC)cc1)S(=O)(=O)N']\n"
     ]
    }
   ],
   "source": [
    "smi = \"CCOc1ccc2nc(S(N)(=O)=O)sc2c1\"\n",
    "print(\"Original:\", smi)\n",
    "print(\"Augmented:\", augment_smiles(smi, num_aug=10))"
   ]
  },
  {
   "cell_type": "code",
   "execution_count": 9,
   "metadata": {},
   "outputs": [
    {
     "data": {
      "image/png": "[encoded data removed]",
      "text/plain": [
       "<rdkit.Chem.rdchem.Mol at 0x7f68dc383760>"
      ]
     },
     "execution_count": 9,
     "metadata": {},
     "output_type": "execute_result"
    }
   ],
   "source": [
    "Chem.MolFromSmiles('c1c2c(nc(S(N)(=O)=O)s2)ccc1OCC')"
   ]
  },
  {
   "cell_type": "code",
   "execution_count": 10,
   "metadata": {},
   "outputs": [
    {
     "data": {
      "image/png": "[encoded data removed]",
      "text/plain": [
       "<rdkit.Chem.rdchem.Mol at 0x7f68dc3837d0>"
      ]
     },
     "execution_count": 10,
     "metadata": {},
     "output_type": "execute_result"
    }
   ],
   "source": [
    "Chem.MolFromSmiles(smi)"
   ]
  },
  {
   "cell_type": "code",
   "execution_count": null,
   "metadata": {},
   "outputs": [],
   "source": []
  }
 ],
 "metadata": {
  "kernelspec": {
   "display_name": "Python 3 (ipykernel)",
   "language": "python",
   "name": "python3"
  },
  "language_info": {
   "codemirror_mode": {
    "name": "ipython",
    "version": 3
   },
   "file_extension": ".py",
   "mimetype": "text/x-python",
   "name": "python",
   "nbconvert_exporter": "python",
   "pygments_lexer": "ipython3",
   "version": "3.11.13"
  }
 },
 "nbformat": 4,
 "nbformat_minor": 4
}
