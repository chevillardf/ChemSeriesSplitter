{
 "cells": [
  {
   "cell_type": "code",
   "execution_count": 1,
   "metadata": {},
   "outputs": [],
   "source": [
    "import re, sys\n",
    "import pandas as pd\n",
    "import numpy as np\n",
    "import json\n",
    "from rdkit import Chem, DataStructs, RDLogger\n",
    "from rdkit.Chem import rdChemReactions, AllChem, Draw, PandasTools\n",
    "RDLogger.DisableLog('rdApp.*')\n",
    "import warnings\n",
    "warnings.filterwarnings('ignore')"
   ]
  },
  {
   "cell_type": "code",
   "execution_count": 40,
   "metadata": {},
   "outputs": [],
   "source": [
    "def remove_bb_smi_label(smi):\n",
    "    return re.sub(r\"\\[\\d{2}\\*\\]\", \"[*]\", smi)"
   ]
  },
  {
   "cell_type": "markdown",
   "metadata": {},
   "source": [
    "#### Extract"
   ]
  },
  {
   "cell_type": "code",
   "execution_count": 49,
   "metadata": {},
   "outputs": [],
   "source": [
    "with open(\"../data/raw/DORA_Lactam_mols_bbs.json\", \"r\") as f:\n",
    "    mols = json.load(f)\n",
    "with open(\"../data/raw/DORA_Lactam_bbs.json\", \"r\") as f:\n",
    "    bbs = json.load(f)\n",
    "    \n",
    "df_mols = pd.json_normalize(mols)\n",
    "df_bbs = pd.json_normalize(bbs)"
   ]
  },
  {
   "cell_type": "code",
   "execution_count": 50,
   "metadata": {},
   "outputs": [],
   "source": [
    "df_bbs = df_bbs[[\"bb_smi\", \"bb_id\"]]\n",
    "df_mols = df_mols[[\"mol_smi\", \"mol_id\", \"A_id\", \"B_id\", \"C_id\"]]\n",
    "\n",
    "for col in [\"A\", \"B\", \"C\"]:\n",
    "    df_mols = df_mols.merge(\n",
    "        df_bbs,\n",
    "        left_on=f\"{col}_id\",\n",
    "        right_on=\"bb_id\",\n",
    "        how=\"left\"\n",
    "    ).rename(columns={\"bb_smi\": f\"{col}_smi\"}).drop(columns=[\"bb_id\"])\n",
    "\n",
    "df_mols = df_mols.dropna(subset=[\"A_id\", \"B_id\", \"C_id\"])"
   ]
  },
  {
   "cell_type": "code",
   "execution_count": 51,
   "metadata": {},
   "outputs": [],
   "source": [
    "for col in [\"A_smi\", \"B_smi\", \"C_smi\"]:\n",
    "    df_mols[col] = df_mols[col].apply(remove_bb_smi_label)"
   ]
  },
  {
   "cell_type": "code",
   "execution_count": 52,
   "metadata": {},
   "outputs": [],
   "source": [
    "df_mols.to_pickle(\"../data/transformed/df_mols_ready.pkl\")"
   ]
  },
  {
   "cell_type": "code",
   "execution_count": 54,
   "metadata": {},
   "outputs": [
    {
     "data": {
      "text/html": [
       "<div>\n",
       "<style scoped>\n",
       "    .dataframe tbody tr th:only-of-type {\n",
       "        vertical-align: middle;\n",
       "    }\n",
       "\n",
       "    .dataframe tbody tr th {\n",
       "        vertical-align: top;\n",
       "    }\n",
       "\n",
       "    .dataframe thead th {\n",
       "        text-align: right;\n",
       "    }\n",
       "</style>\n",
       "<table border=\"1\" class=\"dataframe\">\n",
       "  <thead>\n",
       "    <tr style=\"text-align: right;\">\n",
       "      <th></th>\n",
       "      <th>mol_smi</th>\n",
       "      <th>mol_id</th>\n",
       "      <th>A_id</th>\n",
       "      <th>B_id</th>\n",
       "      <th>C_id</th>\n",
       "      <th>A_smi</th>\n",
       "      <th>B_smi</th>\n",
       "      <th>C_smi</th>\n",
       "    </tr>\n",
       "  </thead>\n",
       "  <tbody>\n",
       "    <tr>\n",
       "      <th>0</th>\n",
       "      <td>COc1cccc(OC)c1[C@@H]1C[C@H](F)C(=O)N1Cc1ccc(OC...</td>\n",
       "      <td>4</td>\n",
       "      <td>A1</td>\n",
       "      <td>B1</td>\n",
       "      <td>C1</td>\n",
       "      <td>[*]c1c(OC)cccc1OC</td>\n",
       "      <td>[*][C@]1([H])C[C@]([H])(F)C(=O)N1[*]</td>\n",
       "      <td>[*]Cc1ccc(OC(F)(F)F)cc1</td>\n",
       "    </tr>\n",
       "    <tr>\n",
       "      <th>1</th>\n",
       "      <td>COc1cccc(OC)c1[C@@H]1CC(F)(F)C(=O)N1Cc1ccc(OC(...</td>\n",
       "      <td>8</td>\n",
       "      <td>A1</td>\n",
       "      <td>B2</td>\n",
       "      <td>C1</td>\n",
       "      <td>[*]c1c(OC)cccc1OC</td>\n",
       "      <td>[*][C@]1([H])CC(F)(F)C(=O)N1[*]</td>\n",
       "      <td>[*]Cc1ccc(OC(F)(F)F)cc1</td>\n",
       "    </tr>\n",
       "    <tr>\n",
       "      <th>2</th>\n",
       "      <td>COc1cccc(OC)c1[C@@H]1CCC(=O)N1Cc1ccc(OC(F)(F)F...</td>\n",
       "      <td>9</td>\n",
       "      <td>A1</td>\n",
       "      <td>B3</td>\n",
       "      <td>C1</td>\n",
       "      <td>[*]c1c(OC)cccc1OC</td>\n",
       "      <td>[*][C@]1([H])CCC(=O)N1[*]</td>\n",
       "      <td>[*]Cc1ccc(OC(F)(F)F)cc1</td>\n",
       "    </tr>\n",
       "  </tbody>\n",
       "</table>\n",
       "</div>"
      ],
      "text/plain": [
       "                                             mol_smi mol_id A_id B_id C_id  \\\n",
       "0  COc1cccc(OC)c1[C@@H]1C[C@H](F)C(=O)N1Cc1ccc(OC...      4   A1   B1   C1   \n",
       "1  COc1cccc(OC)c1[C@@H]1CC(F)(F)C(=O)N1Cc1ccc(OC(...      8   A1   B2   C1   \n",
       "2  COc1cccc(OC)c1[C@@H]1CCC(=O)N1Cc1ccc(OC(F)(F)F...      9   A1   B3   C1   \n",
       "\n",
       "               A_smi                                 B_smi  \\\n",
       "0  [*]c1c(OC)cccc1OC  [*][C@]1([H])C[C@]([H])(F)C(=O)N1[*]   \n",
       "1  [*]c1c(OC)cccc1OC       [*][C@]1([H])CC(F)(F)C(=O)N1[*]   \n",
       "2  [*]c1c(OC)cccc1OC             [*][C@]1([H])CCC(=O)N1[*]   \n",
       "\n",
       "                     C_smi  \n",
       "0  [*]Cc1ccc(OC(F)(F)F)cc1  \n",
       "1  [*]Cc1ccc(OC(F)(F)F)cc1  \n",
       "2  [*]Cc1ccc(OC(F)(F)F)cc1  "
      ]
     },
     "execution_count": 54,
     "metadata": {},
     "output_type": "execute_result"
    }
   ],
   "source": [
    "df_mols.head(3)"
   ]
  },
  {
   "cell_type": "code",
   "execution_count": null,
   "metadata": {},
   "outputs": [],
   "source": []
  }
 ],
 "metadata": {
  "kernelspec": {
   "display_name": "Python 3 (ipykernel)",
   "language": "python",
   "name": "python3"
  },
  "language_info": {
   "codemirror_mode": {
    "name": "ipython",
    "version": 3
   },
   "file_extension": ".py",
   "mimetype": "text/x-python",
   "name": "python",
   "nbconvert_exporter": "python",
   "pygments_lexer": "ipython3",
   "version": "3.11.13"
  }
 },
 "nbformat": 4,
 "nbformat_minor": 4
}
